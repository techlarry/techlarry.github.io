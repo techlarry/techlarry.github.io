{
 "cells": [
  {
   "cell_type": "markdown",
   "metadata": {
    "cell_style": "center"
   },
   "source": [
    "\n",
    "### 1 函数式编程思想\n",
    "\n",
    "> In computer science, functional programming is a programming paradigm –– a style of building the structure and elements of computer programs –– that **treats computation as the evaluation of mathematical functions** and **avoids changing-state and mutable data**.<small>[Wiki](https://en.wikipedia.org/wiki/Functional_programming)</small>\n",
    "\n",
    "\n",
    "* 函数式编程(functional programming) 或称函数程序设计，又称泛函编程，是一种编程范型。\n",
    "* 它将电脑运算视为数学上的函数计算，并且避免使用程序状态以及可变对象。\n",
    "* 函数编程语言最重要的基础是λ演算（lambda calculus), 而且λ演算的函数可以接受函数当作输入（引数）和输出（传出值）。\n",
    "* 函数式编程强调程序执行的结果而非执行的过程，倡导利用若干简单的执行单元让计算结果不断渐进，逐层推导复杂的运算，而不是设计一个复杂的执行过程。"
   ]
  },
  {
   "cell_type": "markdown",
   "metadata": {
    "cell_style": "center"
   },
   "source": [
    "**纯函数**\n",
    "\n",
    "尽量使用纯函数(pure function)编程, 纯函数是没有副作用的函数，相同的输入，永远会得到相同的输出。"
   ]
  },
  {
   "cell_type": "markdown",
   "metadata": {
    "cell_style": "center"
   },
   "source": [
    "**副作用**\n",
    "\n",
    "所谓\"副作用\"（side effect），指的是函数内部与外部互动（最典型的情况，就是修改全局变量的值），产生运算以外的其他结果。\n",
    "\n",
    "函数式编程强调没有\"副作用\"，意味着函数要保持独立，所有功能就是返回一个新的值，没有其他行为，尤其是不得修改外部变量的值。\n",
    "\n",
    "```scala\n",
    "var x = 1\n",
    "def XplusY_v1(y: Int) = x + y // 纯函数\n",
    "def XplusY_v2(y: Int) = {x = x + y; x}\n",
    "```\n",
    "\n",
    "这里 XplusY_v2对 x 就有副作用, 函数执行之后 x 的状态会发生变化\n",
    "而 XplusY_v1 执行之后不会改变 x 的值, XplusY_v1是纯函数"
   ]
  },
  {
   "cell_type": "markdown",
   "metadata": {
    "cell_style": "center"
   },
   "source": [
    "**引用透明性**\n",
    "\n",
    "引用透明性(referential transparency)\n",
    "\n",
    "* 定义: 如果$f(x)$的参数和函数体都是引用透明的, 那么函数$f$是纯函数\n",
    "* 特点: 对于相同的输入, 总是得到相同的输出.就是说，表达式的值不依赖于值可以改变的全局状态。\n",
    "\n",
    "```scala\n",
    "var x = new StringBuild(\"Hello\")\n",
    "var y = x.append(\"world\")\n",
    "var z = x.append(\"world\")\n",
    "```\n",
    "\n",
    "上面形同的表达式`x.append(\"world\")`得到的结果不同, 由于$x$是一个值可以改变的变量"
   ]
  },
  {
   "cell_type": "markdown",
   "metadata": {
    "cell_style": "center"
   },
   "source": [
    "\n",
    "**不变性**\n",
    "\n",
    "不变性(Immutablity)\n",
    "\n",
    "为了获得透明性, 任何值都不能改变。\n",
    "\n",
    "**函数是一等公民**\n",
    "\n",
    "(First-class Function)\n",
    "函数与其他数据类型一样，处于平等地位，可以赋值给其他变量，也可以作为参数，传入另一个函数，或者作为别的函数的返回值。\n",
    "\n",
    "**表达式求值策略**\n",
    "\n",
    "* 严格求值 Call By Value\n",
    "* 非严格求值 Call By Name\n",
    "* 惰性求值 Lazy Evaluation\n",
    "\n",
    "**递归函数**\n",
    "\n",
    "* 递归实现循环: 尾递归(Tail Recursion)"
   ]
  },
  {
   "cell_type": "markdown",
   "metadata": {},
   "source": [
    "**函数式编程的优势**\n",
    "\n",
    "* 生产效率高: 同样功能的程序，代码短\n",
    "* 易于推理：\n",
    "* 并行计算：具有引用透明性\n",
    "\n",
    "Martin Odersky的演讲\n",
    "\n",
    "* PPT：http://www.slideshare.net/Odersky/oscon-keynote-working-hard-to-keep-it-simple\n",
    "* video： https://www.youtube.com/watch?v=3jg1AheF4n0\n",
    " \n",
    "**函数式编程的崛起**\n",
    " \n",
    " 摩尔定律失效，函数式编程适合于并行计算。"
   ]
  },
  {
   "cell_type": "markdown",
   "metadata": {
    "cell_style": "center"
   },
   "source": [
    "### 2 Scala开发环境\n",
    "\n",
    "\n",
    "略\n"
   ]
  },
  {
   "cell_type": "markdown",
   "metadata": {
    "cell_style": "center"
   },
   "source": [
    "### 3 Scala的语言基础\n",
    "\n",
    "####  变量\n",
    "\n",
    "三种变量修饰符\n",
    "\n",
    "*   `val`定义immutable variable\n",
    "*   `var`定义mutable variable\n",
    "*   `lay val`定义惰性变量，实现延迟加载(懒加载)\n",
    "\n",
    "可以不显式指定变量的类型，因为Scala会自动进行类型推导。"
   ]
  },
  {
   "cell_type": "markdown",
   "metadata": {
    "cell_style": "center"
   },
   "source": [
    "####  数据类型\n",
    "\n",
    "Scala的数据类型层级关系：\n",
    "\n",
    "![types](scala_types.jpg)\n",
    "\n",
    "* `AnyVal`是所有值类型的基础类型\n",
    "* `AnyRef`是所有引用类型的基础类型\n",
    "* `Unit`空类型，相当于Java中的Void\n",
    "* `Noting`，一切类型的子类型，通常表示程序异常中止"
   ]
  },
  {
   "cell_type": "code",
   "execution_count": 2,
   "metadata": {
    "cell_style": "center"
   },
   "outputs": [
    {
     "data": {
      "text/plain": [
       "u: Unit = ()\n",
       "p: Unit = ()\n",
       "foo: ()Nothing\n"
      ]
     },
     "execution_count": 2,
     "metadata": {},
     "output_type": "execute_result"
    }
   ],
   "source": [
    "val u: Unit = () // Unit表示函数无返回值，是有副作用的\n",
    "val p = ()        // () 是Unit类型的文字量\n",
    "// nothing 通常是异常\n",
    "def foo() = throw new Exception(\"error occurred\")"
   ]
  },
  {
   "cell_type": "markdown",
   "metadata": {},
   "source": [
    "Scala的String构建于Java的String之上，新增了字符串插值(interpolation)的特性。"
   ]
  },
  {
   "cell_type": "code",
   "execution_count": 3,
   "metadata": {},
   "outputs": [
    {
     "data": {
      "text/plain": [
       "myname: String = zhenhua\n",
       "res: String = My name is zhenhua\n"
      ]
     },
     "execution_count": 3,
     "metadata": {},
     "output_type": "execute_result"
    }
   ],
   "source": [
    "val myname = \"zhenhua\"\n",
    "val res = s\"My name is $myname\""
   ]
  },
  {
   "cell_type": "markdown",
   "metadata": {
    "cell_style": "center"
   },
   "source": [
    "#### 函数与代码块\n",
    "\n",
    "代码块的两个写法\n",
    "\n",
    "```scala\n",
    "{exp1; exp2}\n",
    "\n",
    "{\n",
    "exp1\n",
    "exp2\n",
    "}\n",
    "```\n",
    "\n",
    "Scala的代码块也是一个表达式, 其最终求得的值是最后一个表达式的值。\n",
    "\n",
    "函数的格式：\n",
    "```scala\n",
    "def functionName(param: ParamType): ReturnTye = {\n",
    "    // function body: expressions\n",
    "}\n",
    "```"
   ]
  },
  {
   "cell_type": "markdown",
   "metadata": {
    "cell_style": "center"
   },
   "source": [
    "#### if与for\n",
    "\n",
    "scala里，`if`是表达式：`if (logical_exp) val_A else valB`"
   ]
  },
  {
   "cell_type": "code",
   "execution_count": 6,
   "metadata": {},
   "outputs": [
    {
     "data": {
      "text/plain": [
       "a: Int = 1\n",
       "res2: Any = ()\n"
      ]
     },
     "execution_count": 6,
     "metadata": {},
     "output_type": "execute_result"
    }
   ],
   "source": [
    "if (true) 1 else 2\n",
    "var a = 1\n",
    "if (a != 1) \"notone\" //>res：Any = ()"
   ]
  },
  {
   "cell_type": "markdown",
   "metadata": {},
   "source": [
    "for comprehension是scala的一种语法糖。"
   ]
  },
  {
   "cell_type": "code",
   "execution_count": 15,
   "metadata": {
    "cell_style": "center"
   },
   "outputs": [
    {
     "data": {
      "text/plain": [
       "l: List[String] = List(alice, bob, cathy, \"\")\n",
       "result1: List[String] = List(alice, cathy)\n",
       "result2: List[String] = List(ALICE, BOB, CATHY)\n"
      ]
     },
     "execution_count": 15,
     "metadata": {},
     "output_type": "execute_result"
    }
   ],
   "source": [
    "val l = List(\"alice\", \"bob\", \"cathy\", \"\") //定义一个List\n",
    "// 打印长度大于3的字符串\n",
    "var result1 = for {\n",
    "    s <- l  // generator 生成器\n",
    "    if (s.length > 3) // filter\n",
    "} yield(s) //generate new collection\n",
    "// 打印非空字符串，并转化为大写\n",
    "var result2 = for {\n",
    "    s <- l  // generator 生成器\n",
    "    s1 = s.toUpperCase() //variable binding\n",
    "    if (s1 != \"\")  // filter\n",
    "} yield(s1) //generate new collection"
   ]
  },
  {
   "cell_type": "markdown",
   "metadata": {
    "cell_style": "center"
   },
   "source": [
    "#### try表达式\n",
    "\n",
    "try表达式格式\n",
    "\n",
    "```scala\n",
    "try{}\n",
    "catch{}\n",
    "finally{}\n",
    "```\n",
    "\n",
    "看一个例子："
   ]
  },
  {
   "cell_type": "code",
   "execution_count": 19,
   "metadata": {
    "cell_style": "center"
   },
   "outputs": [
    {
     "name": "stdout",
     "output_type": "stream",
     "text": [
      "always be printed\n"
     ]
    },
    {
     "data": {
      "text/plain": [
       "result: Int = 0\n"
      ]
     },
     "execution_count": 19,
     "metadata": {},
     "output_type": "execute_result"
    }
   ],
   "source": [
    "var result = try{\n",
    "    Integer.parseInt(\"dog\")\n",
    "} catch {\n",
    "    case _: Throwable => 0  // 通配符，总是会被catch\n",
    "} finally {\n",
    "    println(\"always be printed\")\n",
    "}"
   ]
  },
  {
   "cell_type": "markdown",
   "metadata": {
    "cell_style": "center"
   },
   "source": [
    "#### match表达式\n",
    "\n",
    "match表达式格式\n",
    "\n",
    "```scala\n",
    "exp match {\n",
    "    case p1 => val1\n",
    "    case p2 => val2\n",
    "    ...\n",
    "    case _ => valn\n",
    "}\n",
    "```"
   ]
  },
  {
   "cell_type": "code",
   "execution_count": 21,
   "metadata": {
    "cell_style": "center"
   },
   "outputs": [
    {
     "data": {
      "text/plain": [
       "code: Int = 1\n",
       "result: String = one\n"
      ]
     },
     "execution_count": 21,
     "metadata": {},
     "output_type": "execute_result"
    }
   ],
   "source": [
    "val code = 1\n",
    "var result = code match {\n",
    "    case 1 => \"one\"\n",
    "    case 2 => \"two\"\n",
    "    case _ => \"others\"\n",
    "}"
   ]
  },
  {
   "cell_type": "markdown",
   "metadata": {
    "cell_style": "center"
   },
   "source": [
    "### 4 求值策略\n",
    "\n",
    "Scala有两种求值策略:\n",
    "\n",
    "* Call By Value 传值调用，对函数实参求值，且只求一次，如果作为参数值需要对表达式先进行求值\n",
    "* Call By Name 传名调用，对函数实参每次在函数体内被调用时都会求值\n",
    "\n",
    "通常使用Call By Value，如果函数形参以 => 开头，那么会使用Call By Name。\n",
    "\n",
    "```scala\n",
    "def foo(x: Int) = x // call by value\n",
    "def foo(x: => Int) = x //call by name\n",
    "```\n",
    "\n",
    "看下面两个例子\n",
    "\n",
    "```scala\n",
    "def test1(x: Int, y: Int): Int = x * x\n",
    "def test2(x: => Int, y: => Int): Int = x * x\n",
    "```\n",
    "\n",
    "计算过程:\n",
    "\n",
    "```\n",
    "test1(3+4, 8)   test2(3+4, 8)   test1(7, 2 *4)  test2(7, 2 *4)\n",
    " test1(7, 8)     (3+4)*(3+4)     test1(7, 8)         7*7          \n",
    "   7*7             7*(3+4)         7*7                49           \n",
    "   49               7*7             49                            \n",
    "                     49 \n",
    "```\n",
    "\n",
    "传名调用使用=>表示，跟传值调用的区别就在于，\n",
    "\n",
    "* 传名调用是把函数名字传递过去，使用时才真正执行函数\n",
    "* 传值调用是首先计算函数值，然后把值传过去\n"
   ]
  },
  {
   "cell_type": "markdown",
   "metadata": {
    "cell_style": "center"
   },
   "source": [
    "```scala\n",
    "def bar1(x: Int, y: =>Int) = 1\n",
    "def bar2(x: => Int, y: =>Int) = 1\n",
    "def loop(): Int = loop\n",
    "```\n",
    "\n",
    "* `bar1(loop, 1)`: 死循环, 先要计算loop从而陷入死循环\n",
    "* `bar2(loop, 1)`: 表达式值为1 "
   ]
  },
  {
   "cell_type": "markdown",
   "metadata": {
    "cell_style": "center"
   },
   "source": [
    "### 5 高阶函数\n",
    "#### Scala函数与匿名函数\n",
    "\n",
    "在Scala中，函数是第一等公民。\n",
    "\n",
    "Scala语言支持：\n",
    "\n",
    "1. 把函数作为实参传递给另外一个函数\n",
    "2. 把函数作为返回值\n",
    "3. 把函数赋值给变量\n",
    "4. 把函数存储在数据结构里\n",
    "\n",
    "在Scala中，函数就像普通变量一样，同样也具有函数的类型。\n",
    "\n",
    "\n",
    "**函数类型**\n",
    "\n",
    "函数类型的格式为A=>B, 表示一个接收类型A的参数，并返回类型B的函数。\n",
    "\n",
    "例子：`Int=> String`是把整型映射为字符串的函数类型\n",
    "\n",
    "**高阶函数**\n",
    "\n",
    "用函数作为形参或返回值的函数，称为高阶函数。"
   ]
  },
  {
   "cell_type": "code",
   "execution_count": 34,
   "metadata": {},
   "outputs": [
    {
     "data": {
      "text/plain": [
       "operate: (f: (Int, Int) => Int)Int\n",
       "greeting: ()String => String\n"
      ]
     },
     "execution_count": 34,
     "metadata": {},
     "output_type": "execute_result"
    }
   ],
   "source": [
    "// 接收的参数是函数\n",
    "def operate(f: (Int, Int) => Int) = {\n",
    "    f(4, 4)\n",
    "}\n",
    "\n",
    "// 返回值是函数，这里是匿名函数\n",
    "def greeting() = (name: String) => {\"hello\" + \" \" + name}"
   ]
  },
  {
   "cell_type": "markdown",
   "metadata": {},
   "source": [
    "**匿名函数**\n",
    "\n",
    "匿名函数(Anonymous Function)，就是函数常量，也称为函数文字量(Function Literal)。\n",
    "\n",
    "在Scala里，匿名函数的定义格式为\n",
    "\n",
    "(形参列表) => {函数体}"
   ]
  },
  {
   "cell_type": "code",
   "execution_count": null,
   "metadata": {
    "cell_style": "center"
   },
   "outputs": [],
   "source": [
    "(x: Int, y: Int) => x + y"
   ]
  },
  {
   "cell_type": "markdown",
   "metadata": {
    "cell_style": "center"
   },
   "source": [
    "#### 柯里化\n",
    "\n",
    "科里化的概念很简单：只传递给函数一部分参数来调用它，让它返回一个函数去处理剩下的参数。\n",
    "\n",
    "\n",
    "**柯里化函数**(curried Function)把具有多个参数的函数转换成一条函数链, 每个节点上是单一参数。\n",
    "\n",
    "下面两个例子的函数定义是等价的:\n",
    "\n",
    "```scala\n",
    "def add(x: Int, y: Int) = x + y\n",
    "def add(x: Int)(y: Int) = x + y //scala里柯里化的语法\n",
    "```"
   ]
  },
  {
   "cell_type": "code",
   "execution_count": 4,
   "metadata": {
    "cell_style": "center"
   },
   "outputs": [
    {
     "data": {
      "text/plain": [
       "curriedAdd: (x: Int)(y: Int)Int\n",
       "addOne: Int => Int = <function1>\n",
       "res1: Int = 4\n"
      ]
     },
     "execution_count": 4,
     "metadata": {},
     "output_type": "execute_result"
    }
   ],
   "source": [
    "def curriedAdd (x: Int)(y: Int) = x + y\n",
    "val addOne = curriedAdd(2)_\n",
    "addOne(2)  //3"
   ]
  },
  {
   "cell_type": "markdown",
   "metadata": {
    "cell_style": "center"
   },
   "source": [
    "#### Recursive Function(递归函数)\n",
    "\n",
    "当编译器检测到一个函数是尾递归的时候,会覆盖当前的活动记录而不是在栈中去创建一个新的"
   ]
  },
  {
   "cell_type": "code",
   "execution_count": null,
   "metadata": {
    "cell_style": "center"
   },
   "outputs": [],
   "source": [
    "@annotation.tailrec\n",
    "private def factorial(n: Int, m: Int): Int = \n",
    "    if(n <= 0) m\n",
    "    else factorial(n - 1, m * n)\n",
    "\n",
    "factorial(5,1)"
   ]
  },
  {
   "cell_type": "markdown",
   "metadata": {
    "cell_style": "center"
   },
   "source": [
    "### 6 Scala Immutable Collection\n",
    "\n",
    "`scala.collection.immutable`的层次关系。"
   ]
  },
  {
   "cell_type": "markdown",
   "metadata": {
    "cell_style": "center"
   },
   "source": [
    "![types](collections-diagrams.png)"
   ]
  },
  {
   "cell_type": "markdown",
   "metadata": {
    "cell_style": "center"
   },
   "source": [
    "#### List[T]\n",
    "\n",
    "下面讲解如何创建List。"
   ]
  },
  {
   "cell_type": "code",
   "execution_count": 26,
   "metadata": {
    "cell_style": "center"
   },
   "outputs": [
    {
     "data": {
      "text/plain": [
       "a: List[Int] = List(1, 2, 3, 4)\n",
       "b: List[Int] = List(0, 1, 2, 3, 4)\n",
       "c: List[String] = List(x, y, z)\n",
       "d: List[Any] = List(1, 2, 3, 4, x, y, z)\n"
      ]
     },
     "execution_count": 26,
     "metadata": {},
     "output_type": "execute_result"
    }
   ],
   "source": [
    "val a = List(1 , 2 , 3 , 4) \n",
    "val b = 0 :: a  // 使用连接操作符连接元素和List: List(0,1,2,3,4)\n",
    "val c = \"x\" :: \"y\" :: \"z\" :: Nil //从右到左连接, Nil表示空\n",
    "val d = a ::: c // 使用连接操作连接两个List"
   ]
  },
  {
   "cell_type": "markdown",
   "metadata": {},
   "source": [
    "接下来讲解如何访问List里面的元素。"
   ]
  },
  {
   "cell_type": "code",
   "execution_count": 28,
   "metadata": {
    "cell_style": "center"
   },
   "outputs": [
    {
     "name": "stdout",
     "output_type": "stream",
     "text": [
      "1\n",
      "List(2, 3, 4)\n",
      "true\n"
     ]
    }
   ],
   "source": [
    "println(a.head) //返回第一个元素 1\n",
    "println(a.tail) //返回包含除第一个元素外的列表 List(2 , 3 , 4)\n",
    "println(Nil.isEmpty) //列表是否为空true"
   ]
  },
  {
   "cell_type": "markdown",
   "metadata": {},
   "source": [
    "下面讲解如何遍历列表"
   ]
  },
  {
   "cell_type": "code",
   "execution_count": 31,
   "metadata": {
    "cell_style": "center"
   },
   "outputs": [
    {
     "name": "stdout",
     "output_type": "stream",
     "text": [
      "1,2,3,4,\n"
     ]
    },
    {
     "data": {
      "text/plain": [
       "walkthrough: (l: List[Int])String\n"
      ]
     },
     "execution_count": 31,
     "metadata": {},
     "output_type": "execute_result"
    }
   ],
   "source": [
    "//遍历列表l, 以字符串的形式返回\n",
    "def walkthrough(l: List[Int]) : String = {\n",
    "    if(l.isEmpty) \"\"\n",
    "    else l.head.toString + \",\" + walkthrough(l.tail)\n",
    "}\n",
    "println(walkthrough(List(1,2,3,4)))"
   ]
  },
  {
   "cell_type": "markdown",
   "metadata": {
    "cell_style": "center"
   },
   "source": [
    "#### Scala List的高级使用\n",
    "\n",
    "高级函数`filter`, `map`, `takeWhile`\n"
   ]
  },
  {
   "cell_type": "code",
   "execution_count": 40,
   "metadata": {},
   "outputs": [
    {
     "name": "stdout",
     "output_type": "stream",
     "text": [
      "List(1, 3, 5)\n",
      "List(9, 9)\n",
      "List(9, 9,  , R, e, d,  )\n"
     ]
    }
   ],
   "source": [
    "// 过滤出奇数, filter()参数是一个匿名函数, List(1, 3, 5)\n",
    "println(List(1,2,3,4,5).filter(x => x%2 == 1))\n",
    "\n",
    "// 过滤出数字, List(9, 9)\n",
    "println(\"99 Red Balloons\".toList.filter(x => Character.isDigit(x)))\n",
    "\n",
    "// 取元素直到不满足条件, List(9, 9,  , R, e, d,  )\n",
    "println(\"99 Red Balloons\".toList.takeWhile(x => x != 'B'))"
   ]
  },
  {
   "cell_type": "markdown",
   "metadata": {},
   "source": [
    "#### Scala list-map\n",
    "`list.map`将列表中的每个元素进行函数映射"
   ]
  },
  {
   "cell_type": "code",
   "execution_count": 24,
   "metadata": {
    "cell_style": "center"
   },
   "outputs": [
    {
     "data": {
      "text/plain": [
       "res1: List[Char] = List(X, Y, Z)\n",
       "res2: List[Char] = List(X, Y, Z)\n",
       "res3: List[Int] = List(11, 13)\n",
       "q: List[List[Int]] = List(List(1, 2, 3), List(4, 5, 6))\n",
       "res4: List[List[Int]] = List(List(2), List(4, 6))\n",
       "res5: List[List[Int]] = List(List(2), List(4, 6))\n",
       "res6: List[Int] = List(2, 4, 6)\n",
       "res7: Int = 10\n"
      ]
     },
     "execution_count": 24,
     "metadata": {},
     "output_type": "execute_result"
    }
   ],
   "source": [
    "// 转化为大写， List(X, Y, Z)\n",
    "val res1 = \"xyz\".toList.map(x => x.toUpper)\n",
    "\n",
    "// 使用_通配列表中的每个元素\n",
    "val res2 = \"xyz\".toList.map(_.toUpper)\n",
    "\n",
    "// 给每个奇数+10, List(11, 13)\n",
    "val res3 = List(1,2,3,4).filter(_ % 2 == 1).map(_ + 10)\n",
    "\n",
    "// 过滤出偶数，q是列表的列表, 2层列表\n",
    "val q = List(List(1,2,3), List(4,5,6))\n",
    "val res4 = q.map(x => x.filter(_%2 == 0))\n",
    "val res5 =  q.map(_.filter(_%2 == 0)) // 使用_通配\n",
    "//flatMap：将多层的List打平\n",
    "val res6 = q.flatMap(_.filter(_%2==0))\n",
    "// 列表求和，使用两个通配符\n",
    "val res7 = List(1,2,3,4).reduce( _ + _)"
   ]
  },
  {
   "cell_type": "markdown",
   "metadata": {},
   "source": [
    "#### Scala reduceLeft与foldLeft \n",
    "\n",
    "集合的规约操作\n",
    "\n",
    "```scala\n",
    "def reduceLeft [B >: A] (f: (B, A) => B): B\n",
    "```\n",
    "\n",
    "为了说明reduceLeft的原理，假设函数(T, T) => T执行的是一个求和操作。\n",
    "![](reduceLeft_add.jpg)\n",
    "\n",
    "\n",
    "```scala\n",
    "def foldLeft [B] (z: B)(f: (B, A) => B): B\n",
    "```\n",
    "\n",
    "区别：\n",
    "\n",
    "* `reduceLeft`是`foldLeft`的一个特例，相当于`list.tail.foldLeft(list.head)(_)`"
   ]
  },
  {
   "cell_type": "code",
   "execution_count": null,
   "metadata": {},
   "outputs": [],
   "source": [
    "//reduceLeft \n",
    "val b = List(1 , 2 , 3 , 4)\n",
    "//res4:Int = 10\n",
    "val res4 = b.reduceLeft((x, y) => x + y) \n",
    "//res5:Int = 10\n",
    "val res5 = b.reduce(_ + _)              \n",
    "\n",
    "//foldLeft\n",
    "//res6:Int = 11\n",
    "val res6 = b.foldLeft(1)(_ + _)          "
   ]
  },
  {
   "cell_type": "markdown",
   "metadata": {},
   "source": [
    "#### range和stream\n",
    "\n",
    "Range：\n",
    "\n",
    "* `a to b by c`: a到b，步长为c，包括b\n",
    "* `a until b by c`: a到b，步长为c，不包括b\n",
    "\n",
    "Stream是一个惰性列表。也就是说只有在用到时，才会求值"
   ]
  },
  {
   "cell_type": "code",
   "execution_count": 27,
   "metadata": {},
   "outputs": [
    {
     "data": {
      "text/plain": [
       "res7: scala.collection.immutable.Range = Range(1, 3, 5, 7, 9)\n",
       "res8: List[Int] = List(1, 3, 5, 7, 9)\n",
       "res9: List[Int] = List(1, 3, 5, 7, 9)\n",
       "stream: scala.collection.immutable.Stream[Int] = Stream(1, 2, ?)\n",
       "res10: scala.collection.immutable.Stream[Int] = Stream(2, ?)\n",
       "res11: Int = 1\n"
      ]
     },
     "execution_count": 27,
     "metadata": {},
     "output_type": "execute_result"
    }
   ],
   "source": [
    "// res7:  Range(1, 3, 5, 7, 9)\n",
    "val res7 = 1 to 10 by 2\n",
    "// res8: List(1, 3, 5, 7, 9)\n",
    "val res8 = (1 to 10 by 2).toList \n",
    "// res9: List(1, 3, 5, 7, 9)\n",
    "val res9 = (1 until 10 by 2).toList\n",
    "\n",
    "//Stream(Stream is a lazy list)\n",
    "// stream： Stream(1, 2, ?)\n",
    "val stream = (1 to 10).toStream\n",
    "// res10: Stream(2, ?)\n",
    "val res10 = stream.tail\n",
    "// res11: 1\n",
    "val res11 = stream.head"
   ]
  },
  {
   "cell_type": "markdown",
   "metadata": {
    "cell_style": "center"
   },
   "source": [
    "#### tuple与 map\n",
    "tuple元组，它的定义和元素访问方式如下"
   ]
  },
  {
   "cell_type": "code",
   "execution_count": 31,
   "metadata": {},
   "outputs": [
    {
     "data": {
      "text/plain": [
       "res1: (Int, Int) = (1,2)\n",
       "res2: (Int, Int) = (1,2)\n",
       "res3: (Int, String, Double) = (1,Alice,95.5)\n",
       "res4: Int = 1\n"
      ]
     },
     "execution_count": 31,
     "metadata": {},
     "output_type": "execute_result"
    }
   ],
   "source": [
    "val res1 = (1, 2)  //用括号定义\n",
    "val res2 = 1 -> 2 // 用->定义\n",
    "val res3 = (1, \"Alice\", 95.5)  // 多种类型\n",
    "val res4 = res3._1   // 用下划线加数字方式访问"
   ]
  },
  {
   "cell_type": "code",
   "execution_count": 36,
   "metadata": {},
   "outputs": [
    {
     "data": {
      "text/plain": [
       "a: List[Int] = List(1, 4, 1)\n",
       "sumSq: (in: List[Int])(Int, Int, Int)\n",
       "res5: (Int, Int, Int) = (3,6,18)\n"
      ]
     },
     "execution_count": 36,
     "metadata": {},
     "output_type": "execute_result"
    }
   ],
   "source": [
    "// 求List的元素个数，元素和，元素平方和\n",
    "val a = List(1, 4, 1) \n",
    "def sumSq(in: List[Int]):(Int, Int, Int) = {\n",
    "    in.foldLeft((0,0,0))((t, v) => (t._1 + 1, t._2 + v, t._3+v*v)) \n",
    "}\n",
    "// res1: (3,6,18)\n",
    "val res5 = sumSq(a)"
   ]
  },
  {
   "cell_type": "markdown",
   "metadata": {},
   "source": [
    "Map[K, V]: 键值对"
   ]
  },
  {
   "cell_type": "code",
   "execution_count": null,
   "metadata": {
    "cell_style": "center"
   },
   "outputs": [],
   "source": [
    "val p = Map(1 -> \"apple\", 9 -> \"pen\")  // 定义一个Map\n",
    "// 取出对应值，res1: apple\n",
    "val res1 = p(1)\n",
    "// 是否包含某个键，res2: true\n",
    "val res2 = p.contains(1)\n",
    "// 返回所有键，res3: Set(1, 9)\n",
    "val res3 = p.keys\n",
    "// 返回所有值 res4: MapLike(apple, pen)\n",
    "val res4 = p.values\n",
    "// 新增键值对， Map(1 -> apple, 9 -> pen, 2 -> banana\n",
    "val res5 = p + (2 -> \"banana\")\n",
    "// 删除键值对，Map(1 -> apple, 9 -> pen)\n",
    "val res6 = p - 2\n",
    "// 新增多个键值对，Map(1 -> apple, 9 -> pen, 2 -> banana, 3 -> andi)\n",
    "val res7 = p ++ List(2 -> \"banana\", 3 -> \"andi\")\n",
    "// 删除多个键值对，Map(1 -> apple, 9 -> pen)\n",
    "val res8 = p -- List(2,3)"
   ]
  },
  {
   "cell_type": "markdown",
   "metadata": {
    "cell_style": "center"
   },
   "source": [
    "#### 快速排序"
   ]
  },
  {
   "cell_type": "code",
   "execution_count": 39,
   "metadata": {
    "cell_style": "center"
   },
   "outputs": [
    {
     "data": {
      "text/plain": [
       "quickSort: (a: List[Int])List[Int]\n",
       "res4: List[Int] = List(1, 1, 2, 3, 3, 5)\n"
      ]
     },
     "execution_count": 39,
     "metadata": {},
     "output_type": "execute_result"
    }
   ],
   "source": [
    "def quickSort(a: List[Int]): List[Int] = {\n",
    "    if (a.length < 2) a\n",
    "    else quickSort(a.filter(a.head > _)) ++ //左边\n",
    "        a.filter(a.head == _) ++        //中间\n",
    "        quickSort(a.filter(a.head < _))    ///右边\n",
    "}\n",
    "quickSort(List(1,3,5,3,2,1))"
   ]
  }
 ],
 "metadata": {
  "kernelspec": {
   "display_name": "spylon-kernel",
   "language": "scala",
   "name": "spylon-kernel"
  },
  "language_info": {
   "codemirror_mode": "text/x-scala",
   "file_extension": ".scala",
   "help_links": [
    {
     "text": "MetaKernel Magics",
     "url": "https://github.com/calysto/metakernel/blob/master/metakernel/magics/README.md"
    }
   ],
   "mimetype": "text/x-scala",
   "name": "scala",
   "pygments_lexer": "scala",
   "version": "0.4.1"
  },
  "toc": {
   "base_numbering": 1,
   "nav_menu": {},
   "number_sections": false,
   "sideBar": true,
   "skip_h1_title": false,
   "title_cell": "Table of Contents",
   "title_sidebar": "Contents",
   "toc_cell": false,
   "toc_position": {},
   "toc_section_display": true,
   "toc_window_display": true
  }
 },
 "nbformat": 4,
 "nbformat_minor": 2
}
