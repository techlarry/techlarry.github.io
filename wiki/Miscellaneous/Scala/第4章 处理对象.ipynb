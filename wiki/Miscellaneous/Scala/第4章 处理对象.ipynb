{
 "cells": [
  {
   "cell_type": "markdown",
   "metadata": {},
   "source": [
    "### 第4章 处理对象"
   ]
  },
  {
   "cell_type": "markdown",
   "metadata": {},
   "source": [
    "#### 4.1 创建并使用类\n",
    "\n",
    "可以通过编写构造器来创建一个类的实例。可以将构造器视为对象工厂。**主构造器**(primary constructor, 非正式地用其指代类)的参数定义了字段，并自动生成了访问器方法。在Scala中，不需要像Java一样需要在类中定义一个与类名相同的方法来当作构造器。"
   ]
  },
  {
   "cell_type": "code",
   "execution_count": 3,
   "metadata": {},
   "outputs": [
    {
     "name": "stdout",
     "output_type": "stream",
     "text": [
      "Car made in year 2015\n",
      "Miles dirven 0\n",
      "Drive for 10 miles\n",
      "Miles driven 10\n"
     ]
    },
    {
     "data": {
      "text/plain": [
       "defined class Car\n",
       "car: Car = Car@1c8c4832\n"
      ]
     },
     "execution_count": 3,
     "metadata": {},
     "output_type": "execute_result"
    }
   ],
   "source": [
    "class Car(val year: Int) {\n",
    "    private var milesDriven: Int = 0\n",
    "    def miles: Int = milesDriven\n",
    "    def drive(distance: Int): Unit = {\n",
    "        milesDriven += distance\n",
    "    }\n",
    "}\n",
    "\n",
    "val car = new Car(2015)\n",
    "println(s\"Car made in year ${car.year}\")\n",
    "println(s\"Miles dirven ${car.miles}\")\n",
    "println(\"Drive for 10 miles\")\n",
    "car.drive(10)\n",
    "println(s\"Miles driven ${car.miles}\")\n"
   ]
  },
  {
   "cell_type": "markdown",
   "metadata": {},
   "source": [
    "如果类定义没有主体，就没有必要使用大括号({})。\n",
    "\n",
    "```scala\n",
    "class CreditCard(val number: Int, var creditLimit: Int)\n",
    "```\n",
    "\n",
    "类`CreditCard`带有两个字段、一个构造器、不可变的number的getter以及可变的creditLimit的getter和setter。Scala编译器会自动把上面的代码转化为全面的类。先编译前面的代码，并运行命令`javap -private CreditCard`查看编译器所生成的代码\n",
    "\n",
    "```scala\n",
    "Compiled from \"CreditCard.scala\"\n",
    "public class CreditCard {\n",
    "  private final int number;\n",
    "  private int creditLimit;\n",
    "  public int number();\n",
    "  public int creditLimit();  // get方法\n",
    "  public void creditLimit_$eq(int); // set方法\n",
    "  public CreditCard(int, int);\n",
    "}\n",
    "```\n",
    "\n",
    "可以看到**编译器自动生成了`getter`和`setter`方法以及构造器**。但是`getter`和`setter`方法并不遵循JavaBean惯例。\n",
    "\n",
    "Scala会执行主构造器中任意表达式和直接内置在类定义中的可执行语句。"
   ]
  },
  {
   "cell_type": "code",
   "execution_count": 5,
   "metadata": {},
   "outputs": [
    {
     "name": "stdout",
     "output_type": "stream",
     "text": [
      "Let's create an instance\n",
      "Creating an instance of Construct with parameter Sample\n"
     ]
    },
    {
     "data": {
      "text/plain": [
       "defined class Construct\n",
       "res3: Construct = Construct@1c0f0515\n"
      ]
     },
     "execution_count": 5,
     "metadata": {},
     "output_type": "execute_result"
    }
   ],
   "source": [
    "class Construct(param: String) {\n",
    "    println(s\"Creating an instance of Construct with parameter $param\")\n",
    "}\n",
    "\n",
    "println(\"Let's create an instance\")\n",
    "new Construct(\"Sample\")"
   ]
  },
  {
   "cell_type": "markdown",
   "metadata": {},
   "source": [
    "除了主构造器，可以使用名为`this()`的方法定义**辅助构造器**(auxiliary constructor)."
   ]
  },
  {
   "cell_type": "code",
   "execution_count": 7,
   "metadata": {},
   "outputs": [
    {
     "name": "stdout",
     "output_type": "stream",
     "text": [
      "Creating John Smith holds null position\n",
      "John Smith holds Analyst position\n",
      "Creating Bill Walker holds null position\n",
      "Bill Walker holds null position\n"
     ]
    },
    {
     "data": {
      "text/plain": [
       "defined class Person\n",
       "john: Person = John Smith holds Analyst position\n",
       "bill: Person = Bill Walker holds null position\n"
      ]
     },
     "execution_count": 7,
     "metadata": {},
     "output_type": "execute_result"
    }
   ],
   "source": [
    "class Person(val firstName: String, val lastName: String) {\n",
    "    var position: String = _ // 下划线表示相应类型的默认值，用于var，不能用于val\n",
    "    println(s\"Creating $toString\")\n",
    "    \n",
    "    def this(firstName :String, lastName: String, positionHeld: String) {\n",
    "        this(firstName, lastName)\n",
    "        position = positionHeld\n",
    "    }\n",
    "    \n",
    "    override def toString: String = {\n",
    "        s\"$firstName $lastName holds $position position\"\n",
    "    }\n",
    "}\n",
    "\n",
    "val john = new Person(\"John\", \"Smith\", \"Analyst\")\n",
    "println(john)\n",
    "val bill = new Person(\"Bill\", \"Walker\")\n",
    "println(bill)"
   ]
  },
  {
   "cell_type": "markdown",
   "metadata": {},
   "source": [
    "#### 4.2 遵循JavaBean惯例\n",
    "\n",
    "Scala编译器默认生成的访问器并不遵循JavaBean的命令规范。如果类要在Java中使用，要在相应的字段声明上标记`scala.beans.BeanProperty`注解：Scala编译器会准确可靠地生成类似于JavaBean以及Scala风格的`getter`/`setter`方法。"
   ]
  },
  {
   "cell_type": "code",
   "execution_count": null,
   "metadata": {},
   "outputs": [],
   "source": [
    "import scala.beans.BeanProperty\n",
    "class Dude(@BeanProperty val firstName: String, val lastName: String) {\n",
    "    @BeanProperty var position: String = _\n",
    "}"
   ]
  },
  {
   "cell_type": "markdown",
   "metadata": {},
   "source": [
    "javap的输出为\n",
    "\n",
    "```scala\n",
    "public class Dude {\n",
    "  private final java.lang.String firstName;\n",
    "  private final java.lang.String lastName;\n",
    "  private java.lang.String position;\n",
    "  public java.lang.String firstName(); // scala风格 get\n",
    "  public java.lang.String lastName(); // scala风格 get\n",
    "  public java.lang.String position(); // scala风格 get\n",
    "  public void position_$eq(java.lang.String); // scala风格 set\n",
    "  public java.lang.String getFirstName();  // JavaBean风格 get\n",
    "  public java.lang.String getPosition();   // JavaBean风格 get\n",
    "  public void setPosition(java.lang.String); // JavaBean风格 set\n",
    "  public Dude(java.lang.String, java.lang.String);\n",
    "}\n",
    "```"
   ]
  },
  {
   "cell_type": "markdown",
   "metadata": {},
   "source": [
    "#### 4.3 类型别名\n",
    "\n",
    "使用`type A = B`给`class B`取上`class A`的别名。"
   ]
  },
  {
   "cell_type": "markdown",
   "metadata": {},
   "source": [
    "#### 4.4 扩展一个类\n",
    "\n",
    "在Scala中使用`extends`关键字扩展基类。与Java相比，多了两个非常好的限制：其一，方法的重载必须用override关键字；其二，只有主构造器能传递参数给基类的构造器。\n",
    "\n",
    "Scala重载必须使用`override`关键字。"
   ]
  },
  {
   "cell_type": "code",
   "execution_count": 9,
   "metadata": {},
   "outputs": [
    {
     "name": "stdout",
     "output_type": "stream",
     "text": [
      "ID: 1 Year: 2015 Fuel Level: 100\n"
     ]
    },
    {
     "data": {
      "text/plain": [
       "defined class Vehicle\n",
       "defined class Car\n",
       "car: Car = ID: 1 Year: 2015 Fuel Level: 100\n"
      ]
     },
     "execution_count": 9,
     "metadata": {},
     "output_type": "execute_result"
    }
   ],
   "source": [
    "class Vehicle(val id: Int, val year: Int) {\n",
    "    override def toString = s\"ID: $id Year: $year\"\n",
    "}\n",
    "\n",
    "class Car(override val id: Int, override val year: Int, var fuelLevel: Int)\n",
    "    extends Vehicle(id, year) {\n",
    "    override def toString: String = s\"${super.toString} Fuel Level: $fuelLevel\"\n",
    "}\n",
    "\n",
    "val car = new Car(1, 2015, 100)\n",
    "println(car)"
   ]
  },
  {
   "cell_type": "markdown",
   "metadata": {},
   "source": [
    "因为Car中的属性id和year派生自Vehicle，通过在类Car的主构造器相应的参数前加上关键字override表明了这一点。Scala编译器不会为这两个属性生成字段，而是将这些属性的访问器方法路由到基类的相应方法。"
   ]
  },
  {
   "cell_type": "markdown",
   "metadata": {},
   "source": [
    "#### 4.5 参数化类型\n",
    "\n",
    "范型或者参数化类型有助于创建能够同时应对多种不同类型的类和函数。类型可以在编译时而不是在代码编写时确定，这样能够使代码更加扩展且类型安全。在Java中，尖括号(`<>`)被用于指定范型。在Scala中使用防括号(`[]`)来替代。"
   ]
  },
  {
   "cell_type": "code",
   "execution_count": 13,
   "metadata": {},
   "outputs": [
    {
     "name": "stdout",
     "output_type": "stream",
     "text": [
      "Got hello (class java.lang.String)) there (class java.lang.String)\n",
      "Got 4 (class java.lang.Integer)) 5 (class java.lang.Integer)\n",
      "Got 4 (class java.lang.Integer)) 5 (class java.lang.Integer)\n"
     ]
    },
    {
     "data": {
      "text/plain": [
       "echo: [T](input1: T, input2: T)Unit\n"
      ]
     },
     "execution_count": 13,
     "metadata": {},
     "output_type": "execute_result"
    }
   ],
   "source": [
    "// 参数化的函数\n",
    "def echo[T](input1: T, input2: T): Unit = \n",
    "    println(s\"Got $input1 (${input1.getClass})) $input2 (${input2.getClass})\")\n",
    "echo(\"hello\", \"there\")\n",
    "echo(4, 5)\n",
    "echo[Int](4, 5) //指定参数类型"
   ]
  },
  {
   "cell_type": "markdown",
   "metadata": {},
   "source": [
    "创建一个参数化类和创建参数化函数一样简单。和"
   ]
  },
  {
   "cell_type": "code",
   "execution_count": 18,
   "metadata": {},
   "outputs": [
    {
     "name": "stdout",
     "output_type": "stream",
     "text": [
      "message content is howdy\n",
      "true\n",
      "false\n",
      "false\n"
     ]
    },
    {
     "data": {
      "text/plain": [
       "defined class Message\n",
       "message1: Message[String] = message content is howdy\n",
       "message2: Message[Int] = message content is 42\n"
      ]
     },
     "execution_count": 18,
     "metadata": {},
     "output_type": "execute_result"
    }
   ],
   "source": [
    "// 参数话的类\n",
    "class Message[T](val content: T) {\n",
    "    override def toString: String = s\"message content is $content\"\n",
    "    def is(value: T): Boolean = value == content\n",
    "}\n",
    "\n",
    "val message1: Message[String] = new Message(\"howdy\") // 显式指定变量类型\n",
    "val message2 = new Message(42) // 让Scala推断类型\n",
    "println(message1)\n",
    "println(message1.is(\"howdy\"))\n",
    "println(message1.is(\"hi\"))\n",
    "println(message2.is(22))"
   ]
  },
  {
   "cell_type": "markdown",
   "metadata": {},
   "source": [
    "参数化类型在实例创建的时候被指定。如果尝试输入不正确的类型，就会接收到一个严格的报错信息。"
   ]
  },
  {
   "cell_type": "code",
   "execution_count": 19,
   "metadata": {},
   "outputs": [
    {
     "ename": "<console>",
     "evalue": "29: error: type mismatch;",
     "output_type": "error",
     "traceback": [
      "<console>:29: error: type mismatch;",
      " found   : Int(22)",
      " required: String",
      "       message1.is(22) // 编译错误：类型不匹配",
      "                   ^",
      ""
     ]
    }
   ],
   "source": [
    "message1.is(22) // 编译错误：类型不匹配"
   ]
  },
  {
   "cell_type": "markdown",
   "metadata": {},
   "source": [
    "#### 4.6 单例对象和伴生对象\n",
    "\n",
    "在Scala中，创建一个单例要使用关键字`object`而不是`class`。"
   ]
  },
  {
   "cell_type": "code",
   "execution_count": 21,
   "metadata": {},
   "outputs": [
    {
     "name": "stdout",
     "output_type": "stream",
     "text": [
      "Creating marker color red\n",
      "Creating marker color blue\n",
      "Creating marker color yellow\n",
      "marker color blue\n",
      "marker color blue\n",
      "marker color red\n",
      "marker color red\n",
      "Creating marker color green\n",
      "marker color green\n"
     ]
    },
    {
     "data": {
      "text/plain": [
       "import scala.collection._\n",
       "defined class Marker\n",
       "defined object MarkerFactory\n"
      ]
     },
     "execution_count": 21,
     "metadata": {},
     "output_type": "execute_result"
    }
   ],
   "source": [
    "import scala.collection._\n",
    "\n",
    "// 颜色标记器\n",
    "class Marker(val color: String) {\n",
    "    println(s\"Creating ${this}\")\n",
    "    override def toString = s\"marker color $color\"\n",
    "}\n",
    "\n",
    "// 单例，复用预先创建好的Marker实例的单例\n",
    "object MarkerFactory {\n",
    "    private val markers = mutable.Map(\n",
    "        \"red\" -> new Marker(\"red\"),\n",
    "        \"blue\" -> new Marker(\"blue\"),\n",
    "        \"yellow\" -> new Marker(\"yellow\"))\n",
    "    \n",
    "    def getMarker(color: String): Marker =\n",
    "        markers.getOrElseUpdate(color, new Marker(color))\n",
    "}\n",
    "\n",
    "println(MarkerFactory getMarker \"blue\") \n",
    "println(MarkerFactory getMarker \"blue\") \n",
    "println(MarkerFactory getMarker \"red\") \n",
    "println(MarkerFactory getMarker \"red\") \n",
    "println(MarkerFactory getMarker \"green\")"
   ]
  },
  {
   "cell_type": "markdown",
   "metadata": {},
   "source": [
    "**独立对象**(stand-alone object)和任何类都没有自动的联系。例如MarkerFactory。关联到类的单例称为**伴生对象**(companion object)。 \n",
    "\n",
    "* 伴生对象的名字和对应类的名字一致。\n",
    "* 每一类都可以拥有伴生对象\n",
    "* 伴生对象和相应的伴生类可以放在同一个文件中\n",
    "\n",
    "下面使用一个伴生对象对Marker这个例子进行重写。Marker的构造器被声明为private。然而，它的伴生对象可以访问它。因此可以在伴生对象中创建Marker的实例。"
   ]
  },
  {
   "cell_type": "code",
   "execution_count": 23,
   "metadata": {},
   "outputs": [
    {
     "name": "stdout",
     "output_type": "stream",
     "text": [
      "Creating marker color red\n",
      "Creating marker color blue\n",
      "Creating marker color yellow\n",
      "marker color blue\n",
      "marker color blue\n",
      "marker color red\n",
      "marker color red\n",
      "Creating marker color green\n",
      "marker color green\n"
     ]
    },
    {
     "data": {
      "text/plain": [
       "import scala.collection._\n",
       "defined class Marker\n",
       "defined object Marker\n"
      ]
     },
     "execution_count": 23,
     "metadata": {},
     "output_type": "execute_result"
    }
   ],
   "source": [
    "import scala.collection._\n",
    "\n",
    "// 伴生类\n",
    "class Marker private(val color: String) {  // 主构造器标记为private\n",
    "    println(s\"Creating ${this}\")\n",
    "    override def toString = s\"marker color $color\"\n",
    "}\n",
    "\n",
    "object Marker {\n",
    "    private val markers = mutable.Map(\n",
    "        \"red\" -> new Marker(\"red\"),\n",
    "        \"blue\" -> new Marker(\"blue\"),\n",
    "        \"yellow\" -> new Marker(\"yellow\"))\n",
    "    \n",
    "    def getMarker(color: String): Marker =\n",
    "        markers.getOrElseUpdate(color, new Marker(color))\n",
    "}\n",
    "\n",
    "println(Marker getMarker \"blue\") \n",
    "println(Marker getMarker \"blue\") \n",
    "println(Marker getMarker \"red\") \n",
    "println(Marker getMarker \"red\") \n",
    "println(Marker getMarker \"green\")"
   ]
  },
  {
   "cell_type": "markdown",
   "metadata": {},
   "source": [
    "#### 4.7 创建枚举类\n",
    "\n"
   ]
  },
  {
   "cell_type": "markdown",
   "metadata": {},
   "source": [
    "#### 4.8 包对象"
   ]
  }
 ],
 "metadata": {
  "kernelspec": {
   "display_name": "spylon-kernel",
   "language": "scala",
   "name": "spylon-kernel"
  },
  "language_info": {
   "codemirror_mode": "text/x-scala",
   "file_extension": ".scala",
   "help_links": [
    {
     "text": "MetaKernel Magics",
     "url": "https://github.com/calysto/metakernel/blob/master/metakernel/magics/README.md"
    }
   ],
   "mimetype": "text/x-scala",
   "name": "scala",
   "pygments_lexer": "scala",
   "version": "0.4.1"
  },
  "toc": {
   "base_numbering": 1,
   "nav_menu": {},
   "number_sections": false,
   "sideBar": true,
   "skip_h1_title": false,
   "title_cell": "Table of Contents",
   "title_sidebar": "Contents",
   "toc_cell": false,
   "toc_position": {},
   "toc_section_display": true,
   "toc_window_display": true
  }
 },
 "nbformat": 4,
 "nbformat_minor": 2
}
