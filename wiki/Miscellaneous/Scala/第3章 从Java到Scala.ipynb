{
 "cells": [
  {
   "cell_type": "markdown",
   "metadata": {},
   "source": [
    "### 第3章 从Java到Scala"
   ]
  },
  {
   "cell_type": "markdown",
   "metadata": {},
   "source": [
    "#### 3.1 Scala：简洁的Java"
   ]
  },
  {
   "cell_type": "markdown",
   "metadata": {},
   "source": [
    "**减少样板代码**\n",
    "\n",
    "Scala具有非常高的代码密度——输入少量代码就可以完成许多功能。作为对比，来看一个Java代码的例子\n",
    "\n",
    "```Java\n",
    "public class Greetings {\n",
    "    public static void main(String[] args) {\n",
    "        for (int i = 1; i < 4; i++) \n",
    "            System.out.println(i + \",\");\n",
    "    }\n",
    "    System.out.println(\"Scala Rocks!!!\");\n",
    "    }\n",
    "}\n",
    "```\n",
    "\n",
    "使用Scala可以省去这段代码不少东西\n",
    "\n",
    "* 可以不使用分号\n",
    "* 不用把代码写在类`Greetings`中\n",
    "* 不需要指定变量`i`的类型\n",
    "* 可以使用`println`而不使用`System.out.`前缀\n",
    "\n",
    "下面是Java代码使用Scala简化后的代码。箭头(`<-`)的左边定义了一个val，右边是一个生成器表达式。每次迭代都会创建一个新的val，并使用所生成的值的元素相继对其进行初始化。"
   ]
  },
  {
   "cell_type": "code",
   "execution_count": 44,
   "metadata": {},
   "outputs": [
    {
     "name": "stdout",
     "output_type": "stream",
     "text": [
      "1,2,3,Scala Rocks!!!\n"
     ]
    }
   ],
   "source": [
    "for (i <- 1 to 3) print(s\"$i,\")\n",
    "println(\"Scala Rocks!!!\")"
   ]
  },
  {
   "cell_type": "markdown",
   "metadata": {},
   "source": [
    "**使用val定义的变量是不可变的，即初始化后不能更改。然而，那些使用var定义的变量是可变的**。\n",
    "\n",
    "**不可变性(immutability)是作用在变量上，而不是作用在变量所引用的实例上的**。\n",
    "\n",
    "例如，如果编写了`val buffer = new StringBuffer()`, 就不能改变`buffer`的引用。但是，可以使用`StringBuffer.append()`方法来修改所引用的实例。"
   ]
  },
  {
   "cell_type": "code",
   "execution_count": 2,
   "metadata": {},
   "outputs": [
    {
     "data": {
      "text/plain": [
       "sb: StringBuffer = a\n",
       "res1: StringBuffer = a\n"
      ]
     },
     "execution_count": 2,
     "metadata": {},
     "output_type": "execute_result"
    }
   ],
   "source": [
    "val sb = new StringBuffer()\n",
    "sb.append(\"a\") // 改变val实例"
   ]
  },
  {
   "cell_type": "markdown",
   "metadata": {},
   "source": [
    "在Scala中，应尽可能多地使用val，因为它可以提升不可变性，从而减少错误，也可以增益函数式风格。"
   ]
  },
  {
   "cell_type": "markdown",
   "metadata": {},
   "source": [
    "#### 3.2 原始类型对应的Scala类\n",
    "\n",
    "和Java不同，Scala将所有的类型都视为对象。这就意味着，和调用对象上的方法一样，也可以在字面量上进行方法调用。\n",
    "\n",
    "在`1.to(3)`或者`1 to 3`中，需要用类似Java中自动装箱(autoboxing)的机制，以便可以在`Int`上调用`to()`方法。因为`Int`不能直接处理这种请求，所以Scala会自动应用`intWrapper()`方法将`Int`转换为`scala.runtime.RichInt`，然后调用`RichInt`上的`to()`方法。\n",
    "\n",
    "诸如`RichInt`, `RichDouble`和`RichBoolean`这些类，可称为**富包装类**(rich wrapper class)。它们为Scala中的Java原始类型和`String`提供了便于使用的方法。"
   ]
  },
  {
   "cell_type": "markdown",
   "metadata": {},
   "source": [
    "#### 3.3 元祖和多重赋值\n",
    "\n",
    "Scala的**元组**是一个*不可变*的对象序列，创建时使用逗号分隔。例如, (\"Venkat\", \"zhenhua\", \"hello\")就是表示一个3个对象的元组。可以将元组中的多个元素同时赋值给多个val或者var(**多重赋值**)。"
   ]
  },
  {
   "cell_type": "code",
   "execution_count": 50,
   "metadata": {},
   "outputs": [
    {
     "data": {
      "text/plain": [
       "firstName: String = Venkat\n",
       "lastName: String = Subramaniam\n",
       "emailAddress: String = venkats@agiledeveloper.com\n"
      ]
     },
     "execution_count": 50,
     "metadata": {},
     "output_type": "execute_result"
    }
   ],
   "source": [
    "val (firstName, lastName, emailAddress) = \n",
    "    (\"Venkat\", \"Subramaniam\", \"venkats@agiledeveloper.com\")"
   ]
  },
  {
   "cell_type": "markdown",
   "metadata": {},
   "source": [
    "也可以将元组整体赋值给一个变量，然后采用**下划线加数字**`._i`这种语法形式访问其中的元素。数字$i$表示在元组中元素的索引，元组的索引从1开始。"
   ]
  },
  {
   "cell_type": "code",
   "execution_count": 4,
   "metadata": {},
   "outputs": [
    {
     "name": "stdout",
     "output_type": "stream",
     "text": [
      "Venkat\n"
     ]
    },
    {
     "data": {
      "text/plain": [
       "person: (String, String, String) = (Venkat,Subramaniam,venkats@agiledeveloper.com)\n"
      ]
     },
     "execution_count": 4,
     "metadata": {},
     "output_type": "execute_result"
    }
   ],
   "source": [
    "val person = (\"Venkat\", \"Subramaniam\", \"venkats@agiledeveloper.com\")\n",
    "println(person._1)"
   ]
  },
  {
   "cell_type": "markdown",
   "metadata": {},
   "source": [
    "#### 3.4 灵活的参数和参数值"
   ]
  },
  {
   "cell_type": "markdown",
   "metadata": {},
   "source": [
    "#### 3.6 字符串和多行原始字符串\n",
    "Scala中的字符串就是`java.lang.String`。可以用Java的方式使用`String`。Scala能够自动将String转化为`scala.runtime.RichString`。这种转化给`String`新增了一些有用的方法，如`capitalize()`, `lines()`和`reverse()`方法。"
   ]
  },
  {
   "cell_type": "code",
   "execution_count": 7,
   "metadata": {},
   "outputs": [
    {
     "data": {
      "text/plain": [
       "s: String = Good\n"
      ]
     },
     "execution_count": 7,
     "metadata": {},
     "output_type": "execute_result"
    }
   ],
   "source": [
    "val s = \"good\".capitalize"
   ]
  },
  {
   "cell_type": "markdown",
   "metadata": {},
   "source": [
    "可以用一对3个双引号(`\"\"\"...\"\"\"`), 创建一个跨行的字符串。Scala将3个双引号中间的内容保持原样，在Scala中这种字符串被称为**原始字符串**。\n",
    "\n",
    "```scala\n",
    "val str = \"\"\"In his famous inaugural speech, John F. Kennedy said \"And so, my fellow Americans: ask not what your country can do speak to the citizens of the World...\"\"\"\n",
    "```"
   ]
  },
  {
   "cell_type": "markdown",
   "metadata": {},
   "source": [
    "#### 3.7 字符串插值\n",
    "\n",
    "在双引号前面的**s**的意思是s插值器(s-interpolator), 它会找到字符串中的表达式，并将其替换成对应的值。"
   ]
  },
  {
   "cell_type": "code",
   "execution_count": 5,
   "metadata": {},
   "outputs": [
    {
     "data": {
      "text/plain": [
       "discount: Int = 90\n",
       "message: String = A discount of 90% has been applied\n"
      ]
     },
     "execution_count": 5,
     "metadata": {},
     "output_type": "execute_result"
    }
   ],
   "source": [
    "val discount = 90\n",
    "val message = s\"A discount of $discount% has been applied\""
   ]
  },
  {
   "cell_type": "markdown",
   "metadata": {},
   "source": [
    "如果表达是是最简单的一个变量，那么在它的前面加上美元符号`$`。而对于更复杂的表达式，可以把它们放在大括号中。"
   ]
  },
  {
   "cell_type": "code",
   "execution_count": 10,
   "metadata": {},
   "outputs": [
    {
     "data": {
      "text/plain": [
       "price: Int = 90\n",
       "totalPrice: String = The amount of discount is 81 dollars\n"
      ]
     },
     "execution_count": 10,
     "metadata": {},
     "output_type": "execute_result"
    }
   ],
   "source": [
    "var price = 90\n",
    "val totalPrice = s\"The amount of discount is ${price * discount /100} dollars\""
   ]
  },
  {
   "cell_type": "markdown",
   "metadata": {},
   "source": [
    "美元符号被用作表达式的分隔符，如果说字符串中正好有一个$符号，那么其还可以被用作转义符。"
   ]
  },
  {
   "cell_type": "code",
   "execution_count": 11,
   "metadata": {},
   "outputs": [
    {
     "data": {
      "text/plain": [
       "totalPrice: String = The amount of discount is $81\n"
      ]
     },
     "execution_count": 11,
     "metadata": {},
     "output_type": "execute_result"
    }
   ],
   "source": [
    "val totalPrice = s\"The amount of discount is $$${price*discount/100}\""
   ]
  },
  {
   "cell_type": "markdown",
   "metadata": {},
   "source": [
    "s插值器只是用值去替换表达式，而不做任何格式处理。下面的表达式正确求值了，但是输出结果中小数点后有3位小数："
   ]
  },
  {
   "cell_type": "code",
   "execution_count": 13,
   "metadata": {},
   "outputs": [
    {
     "name": "stdout",
     "output_type": "stream",
     "text": [
      "On ticket 10% save $2.512\n"
     ]
    },
    {
     "data": {
      "text/plain": [
       "product: String = ticket\n",
       "price: Double = 25.12\n",
       "discount: Int = 10\n"
      ]
     },
     "execution_count": 13,
     "metadata": {},
     "output_type": "execute_result"
    }
   ],
   "source": [
    "val product = \"ticket\"\n",
    "val price = 25.12\n",
    "val discount = 10\n",
    "println(s\"On $product $discount% save $$${price *discount/100.00}\")"
   ]
  },
  {
   "cell_type": "markdown",
   "metadata": {},
   "source": [
    "为了对输出做格式化，而不只是插值，可以使用**f插值器**(f-interpolator)。字符串的格式化和Java中的`printf`函数遵循相同的规则，只是还可以和前面的例子一样嵌入表达式。改写前面的`println`语句，在表达式后面带上格式`2.2f`。注意，需要用一个额外的%转义已有的那个百分号。我们没有在product或者discount变量后放置任何格式相关的额符号，尽管我们本可以放相应的%s和%d。如果没有指定格式，那么f插值器将会假定格式是%s，也就是说直接转化为字符串。"
   ]
  },
  {
   "cell_type": "code",
   "execution_count": 17,
   "metadata": {},
   "outputs": [
    {
     "name": "stdout",
     "output_type": "stream",
     "text": [
      "On ticket 10% saves $2.51\n"
     ]
    }
   ],
   "source": [
    "println(f\"On $product $discount%% saves $$${price * discount/100.00}%2.2f\")"
   ]
  },
  {
   "cell_type": "markdown",
   "metadata": {},
   "source": [
    "#### 3.9 操作符重载\n",
    "\n",
    "技术上说，Scala没有操作符，所以操作符重载的意思是重载诸如+、-等符号。在Scala中，这些都是方法名。操作符利用了Scala宽松的方法调用语法––Scala不强制在对象引用和方法名中间使用点号(`.`)。\n",
    "\n",
    "这两个特性结合在一起就给人一种操作符重载的幻觉。因此，当调用`ref1+ref2`，实际上是`ref1.+(ref2)`，是在`ref1`上面调用`+()`方法。"
   ]
  },
  {
   "cell_type": "markdown",
   "metadata": {},
   "source": [
    "下面的`Complex`类表示复数，提供了`+`操作符。`Complex`类定义了一个接收两个参数的构造器。"
   ]
  },
  {
   "cell_type": "code",
   "execution_count": 9,
   "metadata": {},
   "outputs": [
    {
     "name": "stdout",
     "output_type": "stream",
     "text": [
      "(1+2i) + (2-3i) = 3-1i\n"
     ]
    },
    {
     "data": {
      "text/plain": [
       "defined class Complex\n",
       "c1: Complex = 1+2i\n",
       "c2: Complex = 2-3i\n",
       "sum: Complex = 3-1i\n"
      ]
     },
     "execution_count": 9,
     "metadata": {},
     "output_type": "execute_result"
    }
   ],
   "source": [
    "class Complex(val real: Int, val imaginary: Int) {\n",
    "    def +(operand: Complex): Complex = { // 定义+操作\n",
    "        new Complex(real + operand.real, imaginary + operand.imaginary)\n",
    "    }\n",
    "    override def toString: String = {\n",
    "        val sign = if (imaginary < 0) \"\" else \"+\"\n",
    "        s\"$real$sign${imaginary}i\"\n",
    "    }\n",
    "}\n",
    "val c1 = new Complex(1, 2)\n",
    "val c2 = new Complex(2, -3)\n",
    "val sum = c1 + c2\n",
    "println(s\"($c1) + ($c2) = $sum\")"
   ]
  },
  {
   "cell_type": "markdown",
   "metadata": {},
   "source": [
    "Scala没有操作符，所以没有在操作符上定义优先级，但是它在**方法上定义了优先级**。方法的第一个字符决定了优先级。如果在一个表达式中两个字符的优先级相同，那么在左边的方法优先级更高。下面是第一个字符的优先级从低到高的列表：\n",
    "\n",
    "所有字符\n",
    "\n",
    "    |\n",
    "    ^\n",
    "    &\n",
    "    <>\n",
    "    = !\n",
    "    :\n",
    "    + -\n",
    "    * / %\n",
    "    其他特殊字符\n",
    "在下面的代码中，我们在`Complex`中定义了加方法和乘方法。\n"
   ]
  },
  {
   "cell_type": "code",
   "execution_count": 28,
   "metadata": {},
   "outputs": [
    {
     "name": "stdout",
     "output_type": "stream",
     "text": [
      "Calling *\n",
      "Calling +\n",
      "-1-6i\n"
     ]
    },
    {
     "data": {
      "text/plain": [
       "defined class Complex\n",
       "c1: Complex = 1+4i\n",
       "c2: Complex = 2-3i\n",
       "c3: Complex = 2-2i\n"
      ]
     },
     "execution_count": 28,
     "metadata": {},
     "output_type": "execute_result"
    }
   ],
   "source": [
    "class Complex(val real: Int, val imaginary: Int) {\n",
    "    def +(operand: Complex): Complex = {\n",
    "        println(\"Calling +\")\n",
    "        new Complex(real + operand.real, imaginary + operand.imaginary)\n",
    "    }\n",
    "    \n",
    "    def *(operand: Complex): Complex = {\n",
    "        println(\"Calling *\")\n",
    "        new Complex(real * operand.real - imaginary * operand.imaginary,\n",
    "                          real * operand.imaginary + imaginary * operand.real)\n",
    "    }\n",
    "    \n",
    "    override def toString: String = {\n",
    "        val sign = if (imaginary < 0) \"\" else \"+\"\n",
    "        s\"$real$sign${imaginary}i\"\n",
    "    }\n",
    "}\n",
    "\n",
    "val c1 = new Complex(1, 4)\n",
    "val c2 = new Complex(2, -3)\n",
    "val c3 = new Complex(2, -2)\n",
    "println(c1 + c2 * c3)"
   ]
  },
  {
   "cell_type": "markdown",
   "metadata": {},
   "source": [
    "#### 3.10 Scala与Java的差异\n",
    "\n",
    "**赋值的结果**\n",
    "\n",
    "在Java中，赋值操作(像`a=b`)的返回值就是`a`的值，因此像`x=a=b`这样的连续赋值就可以出现，但是在Scala中不能这样做。在Scala中赋值操作的结果值是一个`Unit`———大概等价于一个`Void`。\n",
    "\n",
    "```scala\n",
    "var a = 1\n",
    "var b = 2\n",
    "a = b = 3 //编译错误\n",
    "```"
   ]
  },
  {
   "cell_type": "markdown",
   "metadata": {},
   "source": [
    "**Scala的==**\n",
    "\n",
    "Java的`==`对基本类型和引用类型有着不同的含义。对于基本类型，`==`意味着基于值的比较，对于引用类型，它意味着基于引用的比较。\n",
    "\n",
    "Scala对`==`的处理和Java不同，它对所有类型都是一致的。在Scala中，`==`表示基于值的比较，而不论类型是什么。这是在类`Any`(Scala中所有类型都衍生自`Any`)中实现了`final`的`==()`方法保证的。\n",
    "\n",
    "如果要比较引用是否指向同一个对象，可以使用Scala中的`eq()`方法。\n"
   ]
  },
  {
   "cell_type": "code",
   "execution_count": 31,
   "metadata": {},
   "outputs": [
    {
     "name": "stdout",
     "output_type": "stream",
     "text": [
      "true\n",
      "true\n",
      "true\n",
      "false\n"
     ]
    },
    {
     "data": {
      "text/plain": [
       "str1: String = hello\n",
       "str2: String = hello\n",
       "str3: String = hello\n"
      ]
     },
     "execution_count": 31,
     "metadata": {},
     "output_type": "execute_result"
    }
   ],
   "source": [
    "val str1 = \"hello\"\n",
    "val str2 = \"hello\"\n",
    "val str3 = new String(\"hello\")\n",
    "\n",
    "println(str1 == str2) // 等价于java的str1.equals(str2)\n",
    "println(str1 eq str2) // 等价于Java的str1 == str2\n",
    "println(str1 == str3)\n",
    "println(str1 eq str3)"
   ]
  },
  {
   "cell_type": "markdown",
   "metadata": {},
   "source": [
    "**可有可无的分号**\n",
    "\n",
    "在涉及语句或者表达式的终止时，Scala很厚道——分号(`;`)是可选的，这就能够减少代码中的噪声。然而，Scala在某些上下文中要求在`{`前面有一个分号。"
   ]
  },
  {
   "cell_type": "code",
   "execution_count": 35,
   "metadata": {},
   "outputs": [
    {
     "name": "stdout",
     "output_type": "stream",
     "text": [
      "Created list1\n",
      "Created List2\n",
      "class java.util.ArrayList\n",
      "class $line40.$read$$iw$$iw$$iw$$iw$$iw$$iw$$iw$$iw$$anon$1\n"
     ]
    },
    {
     "data": {
      "text/plain": [
       "list1: java.util.ArrayList[Int] = []\n",
       "list2: java.util.ArrayList[Int] = []\n"
      ]
     },
     "execution_count": 35,
     "metadata": {},
     "output_type": "execute_result"
    }
   ],
   "source": [
    "val list1 = new java.util.ArrayList[Int]; { //加了分号\n",
    "    println(\"Created list1\")\n",
    "}\n",
    "\n",
    "val list2 = new java.util.ArrayList[Int] { //没有加分号\n",
    "    println(\"Created List2\")\n",
    "}\n",
    "\n",
    "println(list1.getClass)\n",
    "println(list2.getClass)"
   ]
  },
  {
   "cell_type": "markdown",
   "metadata": {},
   "source": [
    "在定义`list1`的时候放置了一个分号，因此，紧随其后的`{`开启了一个新的代码块。然后，在定义`list2`的时候没有写分号，所以Scala会假定是在创建一个继承自`ArrayList[Int]`的匿名内部类。"
   ]
  },
  {
   "cell_type": "markdown",
   "metadata": {},
   "source": [
    "**避免显示return**\n",
    "\n",
    "在Java中，使用`return`语句从方法返回结果。而`return`语句在Scala中是隐式的，显式地放置一个`return`命令会影响Scala推断返回类型的能力。\n",
    "\n",
    "在下面的代码中，Scala非常愉快地推断出了`check1()`方法地返回类型。但是由于在方法`check2()`中使用了一个显式的`return`，所以Scala没有推断出类型。在这种情况下，必须提供返回类型`Boolean`。\n",
    "\n",
    "即使你选择提供返回类型，也最好避免显式的`return`命令。`check3`方法就是一个很好的示范。"
   ]
  },
  {
   "cell_type": "code",
   "execution_count": 39,
   "metadata": {},
   "outputs": [
    {
     "ename": "<console>",
     "evalue": "29: error: method check2 has return statement; needs result type",
     "output_type": "error",
     "traceback": [
      "<console>:29: error: method check2 has return statement; needs result type",
      "       def check2 = return true",
      "                    ^",
      ""
     ]
    }
   ],
   "source": [
    "def check1 = true\n",
    "def check2 = return true  // 编译错误，需要提供返回类型\n",
    "def check3: Boolean = return true\n",
    "def check4: Boolean = true\n",
    "println(check1)\n",
    "println(check2)\n",
    "println(check3)"
   ]
  },
  {
   "cell_type": "markdown",
   "metadata": {},
   "source": [
    "#### 3.11 默认访问修饰符\n",
    "\n",
    "在不使用任何访问修饰符的情况下，Scala默认类、字段和方法都是`public`的。"
   ]
  },
  {
   "cell_type": "code",
   "execution_count": 64,
   "metadata": {},
   "outputs": [
    {
     "name": "stdout",
     "output_type": "stream",
     "text": [
      "Started\n"
     ]
    },
    {
     "data": {
      "text/plain": [
       "defined class Microwave\n",
       "microwave: Microwave = Microwave@6e454d55\n"
      ]
     },
     "execution_count": 64,
     "metadata": {},
     "output_type": "execute_result"
    }
   ],
   "source": [
    "class Microwave {\n",
    "    def start(): Unit = println(\"Started\")  // 默认public\n",
    "    def stop(): Unit = println(\"Stopped\")   // 默认public\n",
    "    private def turnTable(): Unit = println(\"turning table\")\n",
    "}\n",
    "val microwave = new Microwave\n",
    "microwave.start() // 编译正确\n",
    "//microwave.turnTable() // 编译错误"
   ]
  },
  {
   "cell_type": "markdown",
   "metadata": {},
   "source": [
    "Java的`protected`对任意包中的派生类和当前包的任意类是可见的。然而Scala的`protected`与C++类似，只有派生类能够访问。更近一步，派生类在访问`protected`成员的时候，成员的类型也需要一致。"
   ]
  },
  {
   "cell_type": "code",
   "execution_count": 68,
   "metadata": {},
   "outputs": [
    {
     "ename": "<console>",
     "evalue": "25: error: method checkEngine in class Vehicle cannot be accessed in Vehicle",
     "output_type": "error",
     "traceback": [
      "<console>:25: error: method checkEngine in class Vehicle cannot be accessed in Vehicle",
      " Access to protected method checkEngine not permitted because",
      " prefix type Vehicle does not conform to",
      " class Car where the access take place",
      "               vehicle.checkEngine() // 编译错误：成员的类型不一致",
      "                       ^",
      ""
     ]
    }
   ],
   "source": [
    "class Vehicle {\n",
    "    protected def checkEngine(): Unit = println(\"Checking Engine\")\n",
    "}\n",
    "\n",
    "class Car extends Vehicle {\n",
    "    def start() {checkEngine()} // 编译正确\n",
    "    def tow(car: Car) {\n",
    "        car.checkEngine() // 编译正确\n",
    "    }\n",
    "    \n",
    "    /*def tow(vehicle: Vehicle) {\n",
    "        vehicle.checkEngine() // 编译错误：成员的类型不一致\n",
    "    }\n",
    "    */\n",
    "}\n",
    "\n",
    "/*\n",
    "class GasStation {\n",
    "    def fillGas(vehicle: Vehicle) {\n",
    "        vehicle.checkEngine() // 编译错误：不是派生类\n",
    "    }\n",
    "}\n",
    "*/"
   ]
  },
  {
   "cell_type": "code",
   "execution_count": null,
   "metadata": {},
   "outputs": [],
   "source": []
  }
 ],
 "metadata": {
  "kernelspec": {
   "display_name": "spylon-kernel",
   "language": "scala",
   "name": "spylon-kernel"
  },
  "language_info": {
   "codemirror_mode": "text/x-scala",
   "file_extension": ".scala",
   "help_links": [
    {
     "text": "MetaKernel Magics",
     "url": "https://github.com/calysto/metakernel/blob/master/metakernel/magics/README.md"
    }
   ],
   "mimetype": "text/x-scala",
   "name": "scala",
   "pygments_lexer": "scala",
   "version": "0.4.1"
  },
  "toc": {
   "base_numbering": 1,
   "nav_menu": {},
   "number_sections": false,
   "sideBar": true,
   "skip_h1_title": true,
   "title_cell": "Table of Contents",
   "title_sidebar": "Contents",
   "toc_cell": false,
   "toc_position": {},
   "toc_section_display": true,
   "toc_window_display": false
  }
 },
 "nbformat": 4,
 "nbformat_minor": 2
}
