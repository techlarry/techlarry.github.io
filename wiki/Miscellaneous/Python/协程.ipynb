{
 "cells": [
  {
   "cell_type": "markdown",
   "metadata": {},
   "source": [
    "#### Generators as Coroutines\n",
    "\n",
    "#### How Coroutines Evolved from Generators\n",
    "Coroutines(协程) via Enhanced Generators was implemented in Python 2.5, and add `.send` method to generator objects.\n",
    "\n",
    "Using `.send()`, the caller of the generator can post data that then becomes the value of the `yield` expression inside the generator function. This allows a generator to be used as a coroutine: a procedure that collaborates with the caller, yielding and receving values from the caller."
   ]
  },
  {
   "cell_type": "markdown",
   "metadata": {},
   "source": [
    "A coroutine can be in one of four states. You can determine the current state using the `inspect.getgeneratorstate(..)` function, which returns one of these strings:\n",
    "\n",
    "* `GEN_CREATED`: waiting to start execution.\n",
    "* `GEN_RUNNING`: currently being executed by the interpreter\n",
    "* `GEN_SUSPENDED`: currently suspended at a `yield` expression\n",
    "* `GEN_CLOSED`: execution has completed.\n"
   ]
  },
  {
   "cell_type": "code",
   "execution_count": 10,
   "metadata": {},
   "outputs": [
    {
     "name": "stdout",
     "output_type": "stream",
     "text": [
      "GEN_CREATED\n",
      "-> Started: a= 10\n",
      "10\n",
      "GEN_SUSPENDED\n",
      "-> Received: b= 28\n",
      "38\n",
      "-> Received: c= 99\n",
      "StopIteration\n",
      "GEN_CLOSED\n"
     ]
    }
   ],
   "source": [
    "from inspect import getgeneratorstate\n",
    "def simple_coro2(a):\n",
    "    print('-> Started: a=', a)\n",
    "    b = yield a\n",
    "    print('-> Received: b=', b)\n",
    "    c = yield a + b\n",
    "    print('-> Received: c=', c)\n",
    "my_coro2 = simple_coro2(10)\n",
    "print(getgeneratorstate(my_coro2)) # GEN_CREATED\n",
    "print(next(my_coro2))  # -> Started: a= 10, 10\n",
    "print(getgeneratorstate(my_coro2)) # GEN_SUSPENDED\n",
    "print(my_coro2.send(28))  # -> Received: b= 28, 38\n",
    "try:\n",
    "    print(my_coro2.send(99)) # -> Received: c= 99\n",
    "except StopIteration:\n",
    "    print('StopIteration')  # StopIteration\n",
    "print(getgeneratorstate(my_coro2)) # GEN_CLOSED"
   ]
  },
  {
   "cell_type": "markdown",
   "metadata": {},
   "source": [
    "Execution of the `simple_coro2` coroutine can be split in three phases:\n",
    "\n",
    "![](simple_coro2.png)\n",
    "\n",
    "1. next(my_coro2) prints first message and runs to yield a, yielding number 14.\n",
    "2. my_coro2.send(28) assigns 28 to b, prints second message, and runs to yield a + b, yielding number 42.\n",
    "3. my_coro2.send(99) assigns 99 to c, prints third message, and the coroutine terminates."
   ]
  },
  {
   "cell_type": "markdown",
   "metadata": {},
   "source": [
    "The Example below uses coroutine to compute a running average."
   ]
  },
  {
   "cell_type": "code",
   "execution_count": 13,
   "metadata": {},
   "outputs": [],
   "source": [
    "def averager():\n",
    "    total = 0.0\n",
    "    count = 0\n",
    "    average = None\n",
    "    while True:\n",
    "        term = yield average\n",
    "        total += term\n",
    "        count += 1\n",
    "        average = total/count\n"
   ]
  },
  {
   "cell_type": "markdown",
   "metadata": {},
   "source": [
    "#### Coroutine Termination and Exception Handling"
   ]
  },
  {
   "cell_type": "code",
   "execution_count": null,
   "metadata": {},
   "outputs": [],
   "source": []
  }
 ],
 "metadata": {
  "kernelspec": {
   "display_name": "Python 3",
   "language": "python",
   "name": "python3"
  },
  "language_info": {
   "codemirror_mode": {
    "name": "ipython",
    "version": 3
   },
   "file_extension": ".py",
   "mimetype": "text/x-python",
   "name": "python",
   "nbconvert_exporter": "python",
   "pygments_lexer": "ipython3",
   "version": "3.7.0"
  },
  "toc": {
   "base_numbering": 1,
   "nav_menu": {},
   "number_sections": false,
   "sideBar": true,
   "skip_h1_title": false,
   "title_cell": "Table of Contents",
   "title_sidebar": "Contents",
   "toc_cell": false,
   "toc_position": {},
   "toc_section_display": true,
   "toc_window_display": false
  }
 },
 "nbformat": 4,
 "nbformat_minor": 2
}
