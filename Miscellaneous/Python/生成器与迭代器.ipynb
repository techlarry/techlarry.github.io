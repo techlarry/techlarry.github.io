{
 "cells": [
  {
   "cell_type": "markdown",
   "metadata": {},
   "source": [
    "Fluent Python Chapter 14读书笔记\n",
    "\n",
    "#### 可迭代对象\n",
    "\n",
    "> An **iterable** is an object that has an `__iter__` method which returns an iterator, or which defines a `__getitem__` method that can take sequential indexes starting from zero. So an iterable is an object that you can get an iterator from.\n",
    "\n",
    "Python中的对象，只要它定义了可以返回一个迭代器的`__iter__`方法，或者定义了可以支持下标索引的`__getitem__`方法，那么它就是一个可迭代对象(Iterable)。简单说，可迭代对象就是能提供迭代器的任意对象。\n",
    "\n",
    "It’s important to be clear about the relationship between iterables and iterators: Python obtains iterators from iterables.\n",
    "\n",
    "The most accurate way to check whether an object $x$ is iterable is to call `iter(x)` and handle a `TypeError` exception if it isn’t."
   ]
  },
  {
   "cell_type": "code",
   "execution_count": 4,
   "metadata": {},
   "outputs": [
    {
     "name": "stdout",
     "output_type": "stream",
     "text": [
      "Is Sentence(hello) iterable? True.\n"
     ]
    }
   ],
   "source": [
    "import re\n",
    "class Sentence:\n",
    "    def __init__(self, text):\n",
    "        self.text = text\n",
    "        self.words = re.findall(r'w+', text)\n",
    "        \n",
    "    def __getitem__(self, index):\n",
    "        return self.words[index]\n",
    "    \n",
    "    def __len__(self):\n",
    "        return len(self.words)\n",
    "    \n",
    "    def __repr__(self):\n",
    "        return 'Sentence(%s)' % self.text\n",
    "\n",
    "def isIterable(x):\n",
    "    try:\n",
    "        iter(x)\n",
    "    except TypeError:\n",
    "        return False\n",
    "    else:\n",
    "        return True\n",
    "sentence = Sentence(\"hello\")\n",
    "print(\"Is {0} iterable? {1}.\".format(sentence, isIterable(sentence)))"
   ]
  },
  {
   "cell_type": "markdown",
   "metadata": {},
   "source": [
    "The `iter` built-in function:\n",
    "\n",
    "1. Checks whether the object implements `__iter__`, and calls that to obtain an iterator.\n",
    "2. If `__iter__` is not implemented, but `__getitem__` is implemented, Python creates an iterator\n",
    "    that attemps to fetch items in order, starting from index 0 (zero).\n",
    "3. If that fails, Python raises `TypeError`, usually saying \"C object is not iterable\", where C is \n",
    "    the class if the target object."
   ]
  },
  {
   "cell_type": "markdown",
   "metadata": {},
   "source": [
    "#### 迭代器\n",
    "\n",
    "> An iterator is an object with a `__next__` and `__iter__` method.\n",
    "> 迭代器是定义了`__next__` 和`__iter__`方法的对象。\n",
    "\n",
    "The standard interface for an iterator has two methods:\n",
    "\n",
    "* `__next__`: Returns the next available item, raising `StopIteration` when there are no more items.\n",
    "* `__iter__`: Returns `self`; this allows iterators to be used where an iterable is expected, for example, in a `for` loop.\n",
    "\n",
    "![](iterable_iterator.png)\n",
    "\n",
    "Since iterators also implement the` __iter__` method, they are iterable as well."
   ]
  },
  {
   "cell_type": "code",
   "execution_count": 26,
   "metadata": {},
   "outputs": [
    {
     "name": "stdout",
     "output_type": "stream",
     "text": [
      "The\n",
      "time\n",
      "has\n",
      "come\n"
     ]
    }
   ],
   "source": [
    "# The __iter__ method of Sentence returns a SentenceIterator.\n",
    "class Sentence:\n",
    "    def __init__(self, text):\n",
    "        self.text = text\n",
    "        self.words = re.findall(r'\\w+', text)\n",
    "    def __repr__(self):\n",
    "        return 'Sentence(%s)' % self.text\n",
    "    def __iter__(self):\n",
    "        return SentenceIterator(self.words)\n",
    "\n",
    "class SentenceIterator:\n",
    "    def __init__(self, words):\n",
    "        self.words = words\n",
    "        self.index = 0\n",
    "    \n",
    "    def __next__(self):\n",
    "        try:\n",
    "            word = self.words[self.index]\n",
    "        except IndexError:\n",
    "            raise StopIteration()\n",
    "        self.index += 1\n",
    "        return word\n",
    "    \n",
    "    def __iter__(self):\n",
    "        return self\n",
    "\n",
    "sentence = Sentence('\"The time has come')\n",
    "for word in sentence :\n",
    "    print(word)"
   ]
  },
  {
   "cell_type": "markdown",
   "metadata": {},
   "source": [
    "The best way to check if an object `x` is an iterator is to call `isinstance(x, abc.Iterator)`."
   ]
  },
  {
   "cell_type": "code",
   "execution_count": 29,
   "metadata": {},
   "outputs": [
    {
     "data": {
      "text/plain": [
       "True"
      ]
     },
     "execution_count": 29,
     "metadata": {},
     "output_type": "execute_result"
    }
   ],
   "source": [
    "from collections import abc\n",
    "isinstance(sentence.__iter__(), abc.Iterator)"
   ]
  },
  {
   "cell_type": "markdown",
   "metadata": {},
   "source": [
    "!!! note\n",
    "    可迭代对象不能把自己作为迭代器。也就是说，可迭代对象有实现`__next__`方法。这遵循了[迭代器设计模式](../../Java/Head First设计模式/9 Iterator and Composite Pattern.md)：如果可迭代对象实现了`__next__`，它不能满足多次迭代的需要。正确的做法是将可迭代对象和迭代器分离。"
   ]
  },
  {
   "cell_type": "markdown",
   "metadata": {},
   "source": [
    "#### 生成器\n",
    "\n",
    "And Python function that has the `yield` keyword in its body is a **generator function**(生成器函数): a function which called, return a **generator**(生成器) object."
   ]
  },
  {
   "cell_type": "code",
   "execution_count": null,
   "metadata": {},
   "outputs": [],
   "source": [
    "def gen_123():\n",
    "    yield 1\n",
    "    yield 2\n",
    "    yield 3\n",
    "print(gen_123)   # gen_123是个函数： <function gen_123 at 0x107b03b70>\n",
    "print(gen_123())  # gen_123返回生成器：<generator object gen_123 at 0x107aea408>"
   ]
  },
  {
   "cell_type": "markdown",
   "metadata": {},
   "source": [
    "The `__iter__` method below is a generator function which, when called, builds a generator object that implements the iterator interface, So the `SentenceIterator` class is no longer needed."
   ]
  },
  {
   "cell_type": "code",
   "execution_count": null,
   "metadata": {},
   "outputs": [],
   "source": [
    "class Sentence:\n",
    "    def __init__(self, text):\n",
    "        self.text = text\n",
    "        self.words = re.findall(r'\\w+', text)\n",
    "    def __repr__(self, text):\n",
    "        return 'Sentence(%s)' % text\n",
    "    def __iter__(self):\n",
    "        for word in self.words:\n",
    "            yield word"
   ]
  },
  {
   "cell_type": "markdown",
   "metadata": {},
   "source": [
    "A **generator expression**(生成器表达式) can be understood as a lazy version of a list comprehension: It does not eagerly build a list, but returns a generator that will lazily produce the items on demand."
   ]
  },
  {
   "cell_type": "code",
   "execution_count": 31,
   "metadata": {},
   "outputs": [
    {
     "data": {
      "text/plain": [
       "<generator object <genexpr> at 0x107a4bb10>"
      ]
     },
     "execution_count": 31,
     "metadata": {},
     "output_type": "execute_result"
    }
   ],
   "source": [
    "l = [1, 2, 3, 4]\n",
    "(l*2 for item in l)  # The generator expression produces a generator\n",
    "#<generator object <genexpr> at 0x107a4bb10>"
   ]
  },
  {
   "cell_type": "code",
   "execution_count": 33,
   "metadata": {},
   "outputs": [
    {
     "name": "stdout",
     "output_type": "stream",
     "text": [
      "hello\n",
      "world\n"
     ]
    }
   ],
   "source": [
    "# Sentence uses a generator expression in its __iter__ method\n",
    "class Sentence:\n",
    "    def __init__(self, text):\n",
    "        self.text = text\n",
    "        self.words = re.finditer(r'\\w+', text)  # lazy \n",
    "    def __repr__(self, text):\n",
    "        return 'Sentence(%s)' % text\n",
    "    def __iter__(self):\n",
    "        return (match.group() for match in self.words) # generator expression\n",
    "for word in Sentence(\"hello world!\"):\n",
    "    print(word)"
   ]
  }
 ],
 "metadata": {
  "kernelspec": {
   "display_name": "Python 3",
   "language": "python",
   "name": "python3"
  },
  "language_info": {
   "codemirror_mode": {
    "name": "ipython",
    "version": 3
   },
   "file_extension": ".py",
   "mimetype": "text/x-python",
   "name": "python",
   "nbconvert_exporter": "python",
   "pygments_lexer": "ipython3",
   "version": "3.7.0"
  },
  "toc": {
   "base_numbering": 1,
   "nav_menu": {},
   "number_sections": false,
   "sideBar": true,
   "skip_h1_title": false,
   "title_cell": "Table of Contents",
   "title_sidebar": "Contents",
   "toc_cell": false,
   "toc_position": {},
   "toc_section_display": true,
   "toc_window_display": false
  }
 },
 "nbformat": 4,
 "nbformat_minor": 2
}
